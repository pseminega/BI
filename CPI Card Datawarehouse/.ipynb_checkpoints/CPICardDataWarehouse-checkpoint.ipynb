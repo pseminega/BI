{
 "cells": [
  {
   "cell_type": "markdown",
   "metadata": {},
   "source": [
    "# The CPI Card Datawarehouse"
   ]
  },
  {
   "cell_type": "markdown",
   "metadata": {},
   "source": [
    "The data warehouse uses three data sources as depicted below. The ERP database is the major source used by manufacturing to manage jobs, subjobs, shipments and invoices. The lead file and financial summaries are secondary data sources, both in spreadsheet format. The lead file and financial summary are prepared from other data sources used by the marketing and accounting departments.\n",
    "\n",
    "![Capture.PNG](Figure/Capture.PNG)\n",
    "\n",
    "\n",
    "\n",
    "**Tools used in this project:**\n",
    "\n",
    "*  SQL Developer 4.1\n",
    "*  ER Assistant 2.10\n",
    "*  Microstrategy Desktop 10\n",
    "*  Oracle Database 12.2\n",
    "*  Pentaho Data Integrator 8.1\n",
    "\n",
    "\n",
    "\n",
    "\n",
    "## [**Source System:**](#sourcesystem)\n",
    "\n",
    "**Primary source : The ERP Database**\n",
    "1. [Entity relationship Diagram](#erdss)\n",
    "2. [Table Row Counts](#tcss)\n",
    "3. [Table Descriptions](#tdss)\n",
    "4. [Source System SQL Scripts](#ssss)\n",
    "\n",
    "**Secondary sources: **\n",
    "\n",
    "* [Lead file]()\n",
    "* [Financial summaries]()\n",
    "\n",
    "\n",
    "\n",
    "## [**Star Schemas:**](#starschema)\n",
    "\n",
    "1. [Job Star Schema](#jss)\n",
    "2. [Shipment Star Schema](#sss)\n",
    "3. [Subjob Star Schema](#sjss)\n",
    "4. [Lead Star Schema](#lss)\n",
    "5. [Invoice Schema](#iss)\n",
    "6. [Financial Cost Summary Star Schema](#fcss)\n",
    "7. [Financial Sales Summary Star Schema](#fsss)\n",
    "\n",
    "## [**Analysis**](#analysis)\n",
    "\n",
    "1. [SQL Base Queries](#bq)\n",
    "2. [Analytical Queries](#aq)\n",
    "3. [Materialized View Design](#mv)\n",
    "4. [Summary](#summary)\n",
    "\n",
    "\n"
   ]
  },
  {
   "cell_type": "markdown",
   "metadata": {},
   "source": [
    "<a id=\"sourcesystem\"></a>\n",
    "# The Source System"
   ]
  },
  {
   "cell_type": "markdown",
   "metadata": {},
   "source": [
    "### The primary data source: ERP Database"
   ]
  },
  {
   "cell_type": "markdown",
   "metadata": {},
   "source": [
    "<a id=\"erdss\"></a>\n",
    "### Entity Relationship Diagram"
   ]
  },
  {
   "cell_type": "markdown",
   "metadata": {},
   "source": [
    "<a href=\"ERD/ERPDatabase.erd\" download>ERPDatabase.erd</a>"
   ]
  },
  {
   "cell_type": "markdown",
   "metadata": {},
   "source": [
    "![ERPDatabase.png](ERD/ERPDatabase.png)"
   ]
  },
  {
   "cell_type": "markdown",
   "metadata": {},
   "source": [
    "<a id=\"tcss\"></a>\n",
    "### Table Row Counts"
   ]
  },
  {
   "cell_type": "markdown",
   "metadata": {},
   "source": [
    "<table>\n",
    "<tr>\n",
    "   <th>Table Name</th>\n",
    "   <th>Number of Rows</th>\n",
    "</tr>\n",
    "<tr>\n",
    "   <td>Customer</td>\n",
    "   <td>3000</td>\n",
    "</tr>\n",
    "<tr>\n",
    "   <td>CustLocation</td>\n",
    "   <td>1000</td>\n",
    "</tr>\n",
    "<tr>\n",
    "   <td>Invoice</td>\n",
    "   <td>1000000</td>\n",
    "</tr>\n",
    "<tr>\n",
    "   <td>Job</td>\n",
    "   <td>100000</td>\n",
    "</tr>\n",
    "<tr>\n",
    "   <td>Location</td>\n",
    "   <td>10</td>\n",
    "</tr>\n",
    "<tr>\n",
    "   <td>MachineType</td>\n",
    "   <td>10</td>\n",
    "</tr>\n",
    "<tr>\n",
    "   <td>SalesAgent</td>\n",
    "   <td>50</td>\n",
    "</tr>\n",
    "<tr>\n",
    "   <td>SalesClass</td>\n",
    "   <td>6</td>\n",
    "</tr>\n",
    "<tr>\n",
    "   <td>Shipment</td>\n",
    "   <td>2500000</td>\n",
    "</tr>\n",
    "<tr>\n",
    "   <td>SubJob</td>\n",
    "   <td>500000</td>\n",
    "</tr>\n",
    "<tr>\n",
    "   <td>LeadFile</td>\n",
    "   <td>250000</td>\n",
    "</tr>\n",
    "<tr>\n",
    "   <td>Financial Sales Summary</td>\n",
    "   <td>1800</td>\n",
    "</tr>\n",
    "<tr>\n",
    "   <td>Financial Cost Summary</td>\n",
    "   <td>5400</td>\n",
    "</tr>\n",
    "</table>"
   ]
  },
  {
   "cell_type": "markdown",
   "metadata": {},
   "source": [
    "<a id=\"tdss\"></a>\n",
    "### Table Descriptions"
   ]
  },
  {
   "cell_type": "markdown",
   "metadata": {},
   "source": [
    "<table>\n",
    "       <tr>\n",
    "           <th>Enty Type</th>\n",
    "           <th>Comments</th>\n",
    "       </tr>\n",
    "       <tr>\n",
    "           <td>Customer</td>\n",
    "           <td>Organizations that request jobs. Customers are involved in quotes which are recorded in the CRM not in the ERP. In the ERP, customers are recorded in a job</td>\n",
    "       </tr>\n",
    "       <tr>\n",
    "           <td>CustLocation</td>\n",
    "           <td>Locations of customers to which cards are shipped.</td>\n",
    "       </tr>\n",
    "       <tr>\n",
    "           <td>Invoice</td>\n",
    "           <td>Collection of shipments billed to a customer. An invoice is created after related shipments so the Bills relationship is optional.</td>\n",
    "       </tr>\n",
    "       <tr>\n",
    "           <td>Job</td>\n",
    "           <td>A contract for a quantity of cards generated after a customer accepts a quote</td>\n",
    "       </tr>\n",
    "       <tr>\n",
    "           <td>Location</td>\n",
    "           <td>Location of the company that manages a job</td>\n",
    "       </tr>\n",
    "       <tr> \n",
    "           <td>MachineType</td>\n",
    "           <td>Type of machine used to produce cards in a subjob</td>\n",
    "       </tr>\n",
    "       <tr>\n",
    "           <td>SalesAgent</td>\n",
    "           <td>Employee credited with obtaining a job</td>\n",
    "       </tr>\n",
    "       <tr>\n",
    "           <td>SalesClass</td>\n",
    "           <td>Type of product on a job</td>\n",
    "       </tr>\n",
    "       <tr>\n",
    "           <td>Shipment</td>\n",
    "           <td>Collection of cards shipped to a customer after production in a subjob</td>\n",
    "       </tr>\n",
    "       <tr>\n",
    "           <td>Subjob</td>\n",
    "           <td>Subset of a job produced using a machine type. Identification dependent on Job.</td>\n",
    "       </tr>\n",
    "\n",
    "\n",
    "</table>"
   ]
  },
  {
   "cell_type": "markdown",
   "metadata": {},
   "source": [
    "<a id=\"ssss\"></a>\n",
    "### Source System SQL Scripts"
   ]
  },
  {
   "cell_type": "markdown",
   "metadata": {},
   "source": [
    "To recreate the ERP at once run the <a href=\"SQL/sourcesystem/SourceSystemCreateStatements.sql\" download>SourceSystemCreateStatements.sql</a> file to create the tables and \n",
    "<a href=\"SQL/sourcesystem/SourceSystemInsertStatements.sql\" download>SourceSystemInsertStatements.sql</a> to insert the data. These files were created and tested on Oracle Database 12.2.2\n",
    "\n",
    "For individual table creations and population run the files in order:\n",
    "\n",
    "*  <a href=\"SQL/sourcesystem/Customer.sql\" download>Customer.sql</a>\n",
    "*  <a href=\"SQL/sourcesystem/Location.sql\" download>Location.sql</a>\n",
    "*  <a href=\"SQL/sourcesystem/CustLocation.sql\" download>CustLocation.sql</a>\n",
    "*  <a href=\"SQL/sourcesystem/SalesAgent.sql\" download>SalesAgent.sql</a>\n",
    "*  <a href=\"SQL/sourcesystem/SalesClass.sql\" download>SalesClass.sql</a>\n",
    "*  <a href=\"SQL/sourcesystem/MachineType.sql\" download>MachineType.sql</a>\n",
    "*  <a href=\"SQL/sourcesystem/Job.sql\" download>Job.sql</a>\n",
    "*  <a href=\"SQL/sourcesystem/Invoice.sql\" download>Invoice.sql</a>\n",
    "*  <a href=\"SQL/sourcesystem/Subjob.sql\" download>Subjob.sql</a>\n",
    "*  <a href=\"SQL/sourcesystem/Shipment.sql\" download>Shipment.sql</a>"
   ]
  },
  {
   "cell_type": "markdown",
   "metadata": {},
   "source": [
    "<a id=\"secondarysources\"></a>\n",
    "### Secondary data sources: The lead file and financial summaries"
   ]
  },
  {
   "cell_type": "markdown",
   "metadata": {},
   "source": [
    "*  <a href=\"Spreadsheets/Lead.xls\" download>Lead File</a>\n",
    "*  <a href=\"Spreadsheets/FinancialCostSummary.xls\" download>Financial Cost Summary</a>\n",
    "*  <a href=\"Spreadsheets/FinancialSalesSummary.xls\" download>Financial Sales Summary</a>"
   ]
  },
  {
   "cell_type": "markdown",
   "metadata": {},
   "source": [
    "## Datawarehouse Design\n",
    "Identifying dimensions, map dimensions to data sources and specify dimension hierarchies in each data cube. Identify data sources and attributes in each data source for each dimension.For hierarchical dimensions you should indicate the levels from broad to narrow. Specify measures and measure aggregation properties. Dimensions and measures are grouped. Dimensions and measures are put together in data cubes."
   ]
  },
  {
   "cell_type": "markdown",
   "metadata": {},
   "source": [
    "<table>\n",
    "<tr>\n",
    "<th>Dimension</th>\n",
    "<th>Attributes</th>\n",
    "<th>Hierarchies</th>\n",
    "<th>Data Sources</th>\n",
    "</tr>\n",
    "        \n",
    "<tr>\n",
    "<td>Customer</td>\n",
    "<td>Cust_Key,Cust_Name,Location,E_Mail_Address,Terms_Code</td>\n",
    "<td>Country,State,City,Country,Zip</td>\n",
    "<td>Customer table in ERP</td>\n",
    "</tr>\n",
    "       \n",
    "<tr>\n",
    "<td>Customer location</td>\n",
    "<td>Cust_Loc_Key,Cust_Name Location E_Mai_Address Terms_Code</td>\n",
    "<td>Country, State, City, Country,Zip Top level, second level domains</td>\n",
    "<td>CustomerLoc table in ERP</td>\n",
    "</tr>\n",
    "       \n",
    "<tr>\n",
    "<td>Location</td>\n",
    "<td>Location_Id, Location_Name</td>\n",
    "<td> </td>\n",
    "<td>Location table in ERP</td>\n",
    "</tr>\n",
    "       \n",
    "<tr>\n",
    "<td>Machine type</td>\n",
    "<td>Machine_Type_Id, Manufacturer, Model, Rate_Per_Hour, Number_Of_Machines</td>\n",
    "<td> </td>\n",
    "<td>MachineType table in ERP</td>\n",
    "</tr>\n",
    "       \n",
    "<tr>\n",
    "<td>Sales Agent</td>\n",
    "<td>Sales_Agent_Id, Sales_Agent_Name, Location</td>\n",
    "<td>State, country</td>\n",
    "<td>SalesAgent table in ERP</td>\n",
    "</tr>\n",
    "       \n",
    "<tr>\n",
    "<td>Sales class</td>\n",
    "<td>Sales_Class_Id, Sales_Class_Desc</td>\n",
    "<td> </td>\n",
    "<td>SalesClass table in ERP</td>\n",
    "</tr>\n",
    "       \n",
    "<tr>\n",
    "<td>Time</td>\n",
    "<td>Various dates: Date_Invoiced, Date_Due, Contract_Date, Date_Promised, Date_Ship_By, Date_Prod_Begin, Date_Prod_End,Actual_Shiip_Date, Requested_Ship_Date, Begin_Date, End_Date, Created_Date</td>\n",
    "<td>Year, quarter, month, day, Year, week</td>\n",
    "<td>Date columns in Job, Lead, Shipment, Subjob, Invoice, FinancialCostSummary, and FinancialSalesSummary</td>\n",
    "</tr>\n",
    "\n",
    "</table>"
   ]
  },
  {
   "cell_type": "markdown",
   "metadata": {},
   "source": [
    "<table>\n",
    "       <tr>\n",
    "           <th>Data Source</th>\n",
    "           <th>Measures</th>\n",
    "           <th>Aggregation Properties</th>\n",
    "       </tr>\n",
    "       \n",
    "       <tr>\n",
    "           <td>Lead</td>\n",
    "           <td>Success, Quote_Price, Quote_Qty</td>\n",
    "           <td>Non-additive Non-additive Additive</td>\n",
    "       </tr>\n",
    "       \n",
    "       <tr>\n",
    "           <td>Job</td>\n",
    "           <td>Quantity_Ordered, Quotation_Amount, Quotation_Ordered</td>\n",
    "           <td>Additive Additive Additive</td>\n",
    "       </tr>\n",
    "       \n",
    "       <tr>\n",
    "           <td>Subjob</td>\n",
    "           <td>Cost_Material, Cost_Labor, Cost_Overhead, Machine_Hours, Quantity_Produced</td>\n",
    "           <td>Additive Additive Additive Additive Additive</td>\n",
    "       </tr>\n",
    "       \n",
    "       <tr>\n",
    "           <td>Shipment</td>\n",
    "           <td>Actual_Quantity, Boxes, Quantity_Per_Box, Quantity_Per_Partial_Box</td>\n",
    "           <td>Additive Additive when multiplied by Quantity_Per_Box Additive</td>\n",
    "       </tr>\n",
    "       \n",
    "       <tr>\n",
    "           <td>Invoice</td>\n",
    "           <td>Invoice_Amount</td>\n",
    "           <td></td>\n",
    "       </tr>\n",
    "       \n",
    "       <tr>\n",
    "           <td>Financial_Sales_Summary</td>\n",
    "           <td>Actual_Units, Actual_Amount, Forecast_Units, Forecast_Amount</td>\n",
    "           <td>Additive for all</td>\n",
    "       </tr>\n",
    "       \n",
    "       <tr>\n",
    "           <td>Financial_Cost_Summary</td>\n",
    "           <td>Actual_Units, Actual_Labor_Costs, Actual_Material_Cost, Actual_Overhead_Cost, Budget_Units, Budget_Material_Cost, Budget_Machine_Cost, Budget_Overhead_Cost</td>\n",
    "           <td>Additive for all</td>\n",
    "       </tr>\n",
    "</table>"
   ]
  },
  {
   "cell_type": "markdown",
   "metadata": {},
   "source": [
    "<table>\n",
    "       <tr>\n",
    "           <th>Cube</th>\n",
    "           <th>Dimensions</th>\n",
    "           <th>Measures</th>\n",
    "       </tr>\n",
    "       \n",
    "       <tr>\n",
    "           <td>Lead</td>\n",
    "           <td>Customer, Sales_Agent, Sales_Class, Location, Time</td>\n",
    "           <td>Success, Quote_Price, Quote_Qty</td>\n",
    "       </tr>\n",
    "       \n",
    "       <tr>\n",
    "           <td>Job</td>\n",
    "           <td>Customer, Sales_Agent, Sales_Class, Location, Time</td>\n",
    "           <td>Quantity_Ordered, Quotation_Amount, Quotation_Ordered</td>\n",
    "       </tr>\n",
    "       \n",
    "       <tr>\n",
    "           <td>Subjob</td>\n",
    "           <td>Machine_Type, Customer, Sales_Class, Location, Time</td>\n",
    "           <td>Cost_Material, Cost_Labor, Cost_Overhead, Machine_Hours, Quantity_Produced</td>\n",
    "       </tr>\n",
    "       \n",
    "       <tr>\n",
    "           <td>Shipment</td>\n",
    "           <td>CustLocation, Location, Sales_Class, Time</td>\n",
    "           <td>Actual_Quantity, Boxes, Quantity_Per_Box, Quantity_Per_Partial_Box</td>\n",
    "       </tr>\n",
    "       \n",
    "       <tr>\n",
    "           <td>Invoice</td>\n",
    "           <td>Customer, Location, Sales_Class, Sales_Agent, Time</td>\n",
    "           <td>Invoice_Amount</td>\n",
    "       </tr>\n",
    "       \n",
    "       <tr>\n",
    "           <td>Financial_Sales_Summary</td>\n",
    "           <td>Sales_Class, Location, Time</td>\n",
    "           <td>Actual_Units, Actual_Amount, Forecast_Units, Forecast_Amount</td>\n",
    "       </tr>\n",
    "       \n",
    "       <tr>\n",
    "           <td>Financial_Cost_Summary</td>\n",
    "           <td>Machine_Type, Sales_Class, Location, Time</td>\n",
    "           <td>Actual_Units, Actual_Labor_Costs, Actual_Material_Cost, Actual_Overhead_Cost, Budget_Units, Budget_Material_Cost, Budget_Machine_Cost, Budget_Overhead_Cos</td>\n",
    "       </tr>\n",
    "</table>"
   ]
  },
  {
   "cell_type": "markdown",
   "metadata": {},
   "source": [
    "<table>\n",
    "      <tr>\n",
    "          <th>Cube</th>\n",
    "          <th>Grain</th>\n",
    "          <th>Unadjusted Size</th>\n",
    "          <th>Sparsity</th>\n",
    "      </tr>\n",
    "      \n",
    "      <tr>\n",
    "          <td>Job</td>\n",
    "          <td>Customer postal code, SalesClass, Week, Location, SalesAgent Customer, SalesClass, Day, Location, SalesAgent</td>\n",
    "          <td>46,800,000 3,285,000,000</td>\n",
    "          <td>0.998 0.999</td>\n",
    "      </tr>\n",
    "      \n",
    "      <tr>\n",
    "          <td>Subjob</td>\n",
    "          <td>Customer postal code, SalesClass, Week, Location, MachineType Customer, SalesClass, Day, Location MachineType</td>\n",
    "          <td>9,360,000 657,000,000</td>\n",
    "          <td>0.989 0.992</td>\n",
    "      </tr>\n",
    "      \n",
    "      <tr>\n",
    "          <td>Shipment</td>\n",
    "          <td>Customer postal code, SalesClass, Week, Location ,Customer, SalesClass, Day, Location</td>\n",
    "          <td>1,560,000 219,000,000</td>\n",
    "          <td>-0.603 0.989</td>\n",
    "      </tr>\n",
    "      \n",
    "      <tr>\n",
    "          <td>Invoice</td>\n",
    "          <td>Customer postal code, SalesClass, Week, Location, SalesAgent Customer, SalesClass, Day, Location, SalesAgent</td>\n",
    "          <td>46,800,000 3,285,000,000</td>\n",
    "          <td>0.995 0.999</td>\n",
    "      </tr>\n",
    "      \n",
    "      <tr>\n",
    "          <td>Lead</td>\n",
    "          <td>Customer postal code, Sales_Agent, Sales_Class, Location, Week Customer, Sales_Agent, Sales_Class, Location, Day</td>\n",
    "          <td>46,800,000 3,285,000,000</td>\n",
    "          <td>0.995 0.999</td>\n",
    "      </tr>\n",
    "      \n",
    "      <tr>\n",
    "          <td>Cost Summary</td>\n",
    "          <td>SalesClass, Week, Location, MachineType SalesClass, Day, Location, MachineType</td>\n",
    "          <td>31,200 219,000</td>\n",
    "          <td>-0.154 0.836</td>\n",
    "      </tr>\n",
    "      \n",
    "      <tr>\n",
    "          <td>Sales Summary</td>\n",
    "          <td>SalesClass, Week, Location SalesClass, Day, Location, MachineType</td>\n",
    "          <td>3,120 21,900</td>\n",
    "          <td>-0.154 0.836</td>\n",
    "      </tr> \n",
    "</table>"
   ]
  },
  {
   "cell_type": "markdown",
   "metadata": {},
   "source": [
    "<a id=\"starschema\"></a>\n",
    "# Star Schemas"
   ]
  },
  {
   "cell_type": "markdown",
   "metadata": {},
   "source": [
    "<a id=\"jss\"></a>\n",
    "## Job Star Schema\n",
    "**Business Process Description:**\n",
    "\n",
    "\n",
    "**Technical Description:**"
   ]
  },
  {
   "cell_type": "markdown",
   "metadata": {},
   "source": [
    "#### Entity Relationship Diagram"
   ]
  },
  {
   "cell_type": "markdown",
   "metadata": {},
   "source": [
    "<a href=\"ERD/JobStarSchemaERD.erd\" download>JobStarSchemaERD.erd</a>"
   ]
  },
  {
   "cell_type": "markdown",
   "metadata": {},
   "source": [
    "![JobFactSchema.png](ERD/JobFactSchema.png)"
   ]
  },
  {
   "cell_type": "markdown",
   "metadata": {},
   "source": [
    "#### Table Descriptions"
   ]
  },
  {
   "cell_type": "markdown",
   "metadata": {},
   "source": [
    "<table>\n",
    "<tr>\n",
    "    <th>Schema Type</th>\n",
    "    <th>Dimension tables</th>\n",
    "    <th>Fact table</th>\n",
    "    <th>Comments</th>\n",
    "</tr>\n",
    "<tr>\n",
    "    <td>Job star schema</td>\n",
    "    <td>Customer, SalesClass, Time(3), Location, SalesAgent</td>\n",
    "    <td>Job</td>\n",
    "    <td>Time relationships for contract date, date ship by, and date promised.</td>\n",
    "</tr>\n",
    "</table>"
   ]
  },
  {
   "cell_type": "markdown",
   "metadata": {},
   "source": [
    "#### Scripts To Create Tables"
   ]
  },
  {
   "cell_type": "markdown",
   "metadata": {},
   "source": [
    "<a href=\"SQL/datawarehouse/JobStarSchema.sql\" download>JobStarSchema.sql</a>"
   ]
  },
  {
   "cell_type": "markdown",
   "metadata": {},
   "source": [
    "#### ETL"
   ]
  },
  {
   "cell_type": "markdown",
   "metadata": {},
   "source": [
    "#### Verify Against Source System"
   ]
  },
  {
   "cell_type": "markdown",
   "metadata": {},
   "source": [
    "<a id=\"sss\"></a>\n",
    "## Shipment Star Schema\n",
    "**Business Process Description:**\n",
    "\n",
    "\n",
    "**Technical Description:**"
   ]
  },
  {
   "cell_type": "markdown",
   "metadata": {},
   "source": [
    "#### Entity Relationship Diagram\n",
    "\n",
    "\n",
    "\n"
   ]
  },
  {
   "cell_type": "markdown",
   "metadata": {},
   "source": [
    "<a href=\"ERD/ShipmentStarSchemaERD.erd\" download>ShipmentStarSchemaERD.erd</a>"
   ]
  },
  {
   "cell_type": "markdown",
   "metadata": {},
   "source": [
    "![ShipmentFactSchema.png](ERD/ShipmentFactSchema.png)"
   ]
  },
  {
   "cell_type": "markdown",
   "metadata": {},
   "source": [
    "#### Table Descriptions"
   ]
  },
  {
   "cell_type": "markdown",
   "metadata": {},
   "source": [
    "<table>\n",
    "<tr>\n",
    "    <th>Schema Type</th>\n",
    "    <th>Dimension tables</th>\n",
    "    <th>Fact table</th>\n",
    "    <th>Comments</th>\n",
    "</tr>\n",
    "<tr>\n",
    "    <td>Shipment star schema</td>\n",
    "    <td>CustLocation, SalesClass, Time (2), Location</td>\n",
    "    <td>Shipment</td>\n",
    "    <td>Time relationships for actual ship date and requested ship date. Sub_Job_Id in the Invoice fact table refers to the SubJob fact table. Invoice_Id in the Shipment fact table refers to the Invoice fact table.</td>\n",
    "</tr>\n",
    "</table>"
   ]
  },
  {
   "cell_type": "markdown",
   "metadata": {},
   "source": [
    "#### Scripts To Create Tables"
   ]
  },
  {
   "cell_type": "markdown",
   "metadata": {},
   "source": [
    "<a href=\"SQL/datawarehouse/ShipmentStarSchema.sql\" download>ShipmentStarSchema.sql</a>"
   ]
  },
  {
   "cell_type": "markdown",
   "metadata": {},
   "source": [
    "#### ETL"
   ]
  },
  {
   "cell_type": "markdown",
   "metadata": {},
   "source": [
    "#### Verify Against Source System"
   ]
  },
  {
   "cell_type": "markdown",
   "metadata": {},
   "source": [
    "<a id=\"sjss\"></a>\n",
    "## Subjob Star Schema\n",
    "**Business Process Description:**\n",
    "\n",
    "\n",
    "**Technical Description:**"
   ]
  },
  {
   "cell_type": "markdown",
   "metadata": {},
   "source": [
    "#### Entity Relationship Diagram"
   ]
  },
  {
   "cell_type": "markdown",
   "metadata": {},
   "source": [
    "<a href=\"ERD/SubjobStarSchemaERD.erd\" download>SubjobStarSchemaERD.erd</a>"
   ]
  },
  {
   "cell_type": "markdown",
   "metadata": {},
   "source": [
    "![SubJobFactSchema.png](ERD/SubJobFactSchema.png)"
   ]
  },
  {
   "cell_type": "markdown",
   "metadata": {},
   "source": [
    "#### Table Descriptions"
   ]
  },
  {
   "cell_type": "markdown",
   "metadata": {},
   "source": [
    "<table>\n",
    "<tr>\n",
    "    <th>Schema Type</th>\n",
    "    <th>Dimension tables</th>\n",
    "    <th>Fact table</th>\n",
    "    <th>Comments</th>\n",
    "</tr>\n",
    "<tr>\n",
    "    <td>Subjob star schema</td>\n",
    "    <td>Customer, SalesClass, Time (2), Location, MachineType</td>\n",
    "    <td>Subjob</td>\n",
    "    <td>Time relationships for production begin and ending dates; Job_Id in the Subjob fact table refers to the Job fact table.</td>\n",
    "</tr>\n",
    "</table>"
   ]
  },
  {
   "cell_type": "markdown",
   "metadata": {},
   "source": [
    "#### Scripts To Create Tables"
   ]
  },
  {
   "cell_type": "markdown",
   "metadata": {},
   "source": [
    "<a href=\"SQL/datawarehouse/SubjobStarSchema.sql\" download>SubjobStarSchema.sql</a>"
   ]
  },
  {
   "cell_type": "markdown",
   "metadata": {},
   "source": [
    "#### ETL"
   ]
  },
  {
   "cell_type": "markdown",
   "metadata": {},
   "source": [
    "#### Verify Against Source System"
   ]
  },
  {
   "cell_type": "markdown",
   "metadata": {},
   "source": [
    "<a id=\"lss\"></a>\n",
    "## Lead Star Schema\n",
    "**Business Process Description:**\n",
    "\n",
    "\n",
    "**Technical Description:**"
   ]
  },
  {
   "cell_type": "markdown",
   "metadata": {},
   "source": [
    "#### Entity Relationship Diagram"
   ]
  },
  {
   "cell_type": "markdown",
   "metadata": {},
   "source": [
    "<a href=\"ERD/LeadStarSchemaERD.erd\" download>LeadStarSchemaERD.erd</a>"
   ]
  },
  {
   "cell_type": "markdown",
   "metadata": {},
   "source": [
    "![LeadFactSchema.png](ERD/LeadFactSchema.png)"
   ]
  },
  {
   "cell_type": "markdown",
   "metadata": {},
   "source": [
    "#### Table Descriptions"
   ]
  },
  {
   "cell_type": "markdown",
   "metadata": {},
   "source": [
    "<table>\n",
    "<tr>\n",
    "    <th>Schema Type</th>\n",
    "    <th>Dimension tables</th>\n",
    "    <th>Fact table</th>\n",
    "    <th>Comments</th>\n",
    "</tr>\n",
    "<tr>\n",
    "    <td>Lead Star Schema</td>\n",
    "    <td>Customer, Sales_Agent, Sales_Class, Location, Time</td>\n",
    "    <td>Lead</td>\n",
    "    <td>Job_Id in the Lead table refers to an optional related job.</td>\n",
    "</tr>\n",
    "</table>"
   ]
  },
  {
   "cell_type": "markdown",
   "metadata": {},
   "source": [
    "#### Scripts To Create Tables"
   ]
  },
  {
   "cell_type": "markdown",
   "metadata": {},
   "source": [
    "<a href=\"SQL/datawarehouse/LeadStarSchema.sql\" download>LeadStarSchema.sql</a>"
   ]
  },
  {
   "cell_type": "markdown",
   "metadata": {},
   "source": [
    "#### ETL"
   ]
  },
  {
   "cell_type": "markdown",
   "metadata": {},
   "source": [
    "#### Verify Against Source System"
   ]
  },
  {
   "cell_type": "markdown",
   "metadata": {},
   "source": [
    "<a id=\"iss\"></a>\n",
    "## Invoice Star Schema\n",
    "**Business Process Description:**\n",
    "\n",
    "\n",
    "**Technical Description:**"
   ]
  },
  {
   "cell_type": "markdown",
   "metadata": {},
   "source": [
    "#### Entity Relationship Diagram"
   ]
  },
  {
   "cell_type": "markdown",
   "metadata": {},
   "source": [
    "<a href=\"ERD/InvoiceStarSchemaERD.erd\" download>InvoiceStarSchemaERD.erd</a>"
   ]
  },
  {
   "cell_type": "markdown",
   "metadata": {},
   "source": [
    "![InvoiceFactSchema.png](ERD/InvoiceFactSchema.png)"
   ]
  },
  {
   "cell_type": "markdown",
   "metadata": {},
   "source": [
    "#### Table Descriptions"
   ]
  },
  {
   "cell_type": "markdown",
   "metadata": {},
   "source": [
    "<table>\n",
    "<tr>\n",
    "    <th>Schema Type</th>\n",
    "    <th>Dimension tables</th>\n",
    "    <th>Fact table</th>\n",
    "    <th>Comments</th>\n",
    "</tr>\n",
    "<tr>\n",
    "    <td>Invoice star schema</td>\n",
    "    <td>Customer, SalesClass, Time (2), Location, SalesAgent</td>\n",
    "    <td>Invoice</td>\n",
    "    <td>Time relationships for invoice due date and sent date</td>\n",
    "</tr>\n",
    "</table>"
   ]
  },
  {
   "cell_type": "markdown",
   "metadata": {},
   "source": [
    "#### Scripts To Create Tables"
   ]
  },
  {
   "cell_type": "markdown",
   "metadata": {},
   "source": [
    "<a href=\"SQL/datawarehouse/InvoiceStarSchema.sql\" download>InvoiceStarSchema.sql</a>"
   ]
  },
  {
   "cell_type": "markdown",
   "metadata": {},
   "source": [
    "#### ETL"
   ]
  },
  {
   "cell_type": "markdown",
   "metadata": {},
   "source": [
    "#### Verify Against Source System"
   ]
  },
  {
   "cell_type": "markdown",
   "metadata": {},
   "source": [
    "<a id=\"fcss\"></a>\n",
    "## Financial Cost Summary Schema\n",
    "**Business Process Description:**\n",
    "\n",
    "\n",
    "**Technical Description:**"
   ]
  },
  {
   "cell_type": "markdown",
   "metadata": {},
   "source": [
    "#### Entity Relationship Diagram"
   ]
  },
  {
   "cell_type": "markdown",
   "metadata": {},
   "source": [
    "<a href=\"ERD/CostSummaryStarSchemaERD.erd\" download>CostSummaryStarSchemaERD.erd</a>"
   ]
  },
  {
   "cell_type": "markdown",
   "metadata": {},
   "source": [
    "![FinancialCostSummarySchema.png](ERD/FinancialCostSummarySchema.png)"
   ]
  },
  {
   "cell_type": "markdown",
   "metadata": {},
   "source": [
    "#### Table Descriptions"
   ]
  },
  {
   "cell_type": "markdown",
   "metadata": {},
   "source": [
    "<table>\n",
    "<tr>\n",
    "    <th>Schema Type</th>\n",
    "    <th>Dimension tables</th>\n",
    "    <th>Fact table</th>\n",
    "    <th>Comments</th>\n",
    "</tr>\n",
    "<tr>\n",
    "    <td>Cost Summary star schema</td>\n",
    "    <td>SalesClass, Time (2), Location, MachineType</td>\n",
    "    <td>Financial Cost summary</td>\n",
    "    <td>Time relationships for begin and end date of summary</td>\n",
    "</tr>\n",
    "</table>"
   ]
  },
  {
   "cell_type": "markdown",
   "metadata": {},
   "source": [
    "#### Scripts To Create Tables"
   ]
  },
  {
   "cell_type": "markdown",
   "metadata": {},
   "source": [
    "<a href=\"SQL/datawarehouse/FinancialCostStarSchema.sql\" download>FinancialCostStarSchema.sql</a>"
   ]
  },
  {
   "cell_type": "markdown",
   "metadata": {},
   "source": [
    "#### ETL"
   ]
  },
  {
   "cell_type": "markdown",
   "metadata": {},
   "source": [
    "#### Verify Against Source System"
   ]
  },
  {
   "cell_type": "markdown",
   "metadata": {},
   "source": [
    "<a id=\"fsss\"></a>\n",
    "## Financial Sales Summary Schema\n",
    "**Business Process Description:**\n",
    "\n",
    "\n",
    "**Technical Description:**"
   ]
  },
  {
   "cell_type": "markdown",
   "metadata": {},
   "source": [
    "#### Entity Relationship Diagram"
   ]
  },
  {
   "cell_type": "markdown",
   "metadata": {},
   "source": [
    "<a href=\"ERD/SalesSummaryStarSchemaERD.erd\" download>SalesSummaryStarSchemaERD.erd</a>"
   ]
  },
  {
   "cell_type": "markdown",
   "metadata": {},
   "source": [
    "![FinancialSalesSummarySchema.png](ERD/FinancialSalesSummarySchema.png)"
   ]
  },
  {
   "cell_type": "markdown",
   "metadata": {},
   "source": [
    "#### Table Descriptions"
   ]
  },
  {
   "cell_type": "markdown",
   "metadata": {},
   "source": [
    "<table>\n",
    "<tr>\n",
    "    <th>Schema Type</th>\n",
    "    <th>Dimension tables</th>\n",
    "    <th>Fact table</th>\n",
    "    <th>Comments</th>\n",
    "</tr>\n",
    "<tr>\n",
    "    <td>Sales summary star schema</td>\n",
    "    <td>SalesClass, Time (2), Location, MachineType</td>\n",
    "    <td>Financial Sales summary</td>\n",
    "    <td>Time relationships for begin and end date of summary</td>\n",
    "</tr>\n",
    "</table>"
   ]
  },
  {
   "cell_type": "markdown",
   "metadata": {},
   "source": [
    "#### Scripts To Create Tables"
   ]
  },
  {
   "cell_type": "markdown",
   "metadata": {},
   "source": [
    "<a href=\"SQL/datawarehouse/FinancialSalesSummaryStarSchema.sql\" download>FinancialSalesSummaryStarSchema.sql</a>"
   ]
  },
  {
   "cell_type": "markdown",
   "metadata": {},
   "source": [
    "#### ETL"
   ]
  },
  {
   "cell_type": "markdown",
   "metadata": {},
   "source": [
    "#### Verify Against Source System"
   ]
  },
  {
   "cell_type": "markdown",
   "metadata": {},
   "source": [
    "<a id=\"analysis\"></a>\n",
    "# Analysis"
   ]
  },
  {
   "cell_type": "markdown",
   "metadata": {},
   "source": [
    "<a id=\"bq\"></a>\n",
    "#### SQL Base Queries"
   ]
  },
  {
   "cell_type": "markdown",
   "metadata": {},
   "source": [
    "-  <a href=\"SQL/BQ/Query1.sql\" download>Query1</a>\n",
    "-  <a href=\"SQL/BQ/Query2.sql\" download>Query2</a>\n",
    "-  <a href=\"SQL/BQ/Query3.sql\" download>Query3</a>\n",
    "-  <a href=\"SQL/BQ/Query4.sql\" download>Query4</a>\n",
    "-  <a href=\"SQL/BQ/Query5.sql\" download>Query5</a>\n",
    "-  <a href=\"SQL/BQ/Query6.sql\" download>Query6</a>"
   ]
  },
  {
   "cell_type": "markdown",
   "metadata": {},
   "source": [
    "<a id=\"aq\"></a>\n",
    "#### Analytical Queries"
   ]
  },
  {
   "cell_type": "markdown",
   "metadata": {},
   "source": [
    "-  <a href=\"SQL/AQ/Query1.sql\" download>Query1</a>\n",
    "-  <a href=\"SQL/AQ/Query2.sql\" download>Query2</a>\n",
    "-  <a href=\"SQL/AQ/Query3.sql\" download>Query3</a>\n",
    "-  <a href=\"SQL/AQ/Query4.sql\" download>Query4</a>\n",
    "-  <a href=\"SQL/AQ/Query5.sql\" download>Query5</a>\n",
    "-  <a href=\"SQL/AQ/Query6.sql\" download>Query6</a>\n",
    "-  <a href=\"SQL/AQ/Query7.sql\" download>Query7</a>\n",
    "-  <a href=\"SQL/AQ/Query8.sql\" download>Query8</a>\n",
    "-  <a href=\"SQL/AQ/Query9.sql\" download>Query9</a>\n",
    "-  <a href=\"SQL/AQ/Query10.sql\" download>Query10</a>"
   ]
  },
  {
   "cell_type": "markdown",
   "metadata": {},
   "source": [
    "<a id=\"mv\"></a>\n",
    "#### Material View Design"
   ]
  },
  {
   "cell_type": "markdown",
   "metadata": {},
   "source": [
    "<a id=\"summary\"></a>\n",
    "# Summary"
   ]
  },
  {
   "cell_type": "markdown",
   "metadata": {},
   "source": [
    "## Complete Dashboard 1"
   ]
  },
  {
   "cell_type": "markdown",
   "metadata": {},
   "source": [
    "<a href=\"Dashboards/PierreSeminega-Dashboard1.mstr\" download>Dashboard 1</a>"
   ]
  },
  {
   "cell_type": "markdown",
   "metadata": {},
   "source": [
    "![D1Complete.png](Dashboards/D1Complete.png)"
   ]
  },
  {
   "cell_type": "markdown",
   "metadata": {},
   "source": [
    "### Dashboard 1 Visualization 1"
   ]
  },
  {
   "cell_type": "markdown",
   "metadata": {},
   "source": [
    "![D1V1.png](Dashboards/D1V1.png)"
   ]
  },
  {
   "cell_type": "markdown",
   "metadata": {},
   "source": [
    "### Dashboard 1 Visualization 2"
   ]
  },
  {
   "cell_type": "markdown",
   "metadata": {},
   "source": [
    "![D1V2.png](Dashboards/D1V2.png)"
   ]
  },
  {
   "cell_type": "markdown",
   "metadata": {},
   "source": [
    "### Dashboard 1 Visualization 3"
   ]
  },
  {
   "cell_type": "markdown",
   "metadata": {},
   "source": [
    "![D1V3.png](Dashboards/D1V3.png)"
   ]
  },
  {
   "cell_type": "markdown",
   "metadata": {},
   "source": [
    "### Dashboard 1 Visualization 4"
   ]
  },
  {
   "cell_type": "markdown",
   "metadata": {},
   "source": [
    "![D1V4.png](Dashboards/D1V4.png)"
   ]
  },
  {
   "cell_type": "markdown",
   "metadata": {},
   "source": [
    "## Complete Dashboard 2"
   ]
  },
  {
   "cell_type": "markdown",
   "metadata": {},
   "source": [
    "<a href=\"Dashboards/PierreSeminega-Dashboard2.mstr\" download>Dashboard 2</a>"
   ]
  },
  {
   "cell_type": "markdown",
   "metadata": {},
   "source": [
    "![D2Complete.png](Dashboards/D2Complete.png)"
   ]
  },
  {
   "cell_type": "markdown",
   "metadata": {},
   "source": [
    "### Dashboard 2 Visualization 1"
   ]
  },
  {
   "cell_type": "markdown",
   "metadata": {},
   "source": [
    "![D2V1.png](Dashboards/D2V1.png)"
   ]
  },
  {
   "cell_type": "markdown",
   "metadata": {},
   "source": [
    "### Dashboard 2 Visualization 2"
   ]
  },
  {
   "cell_type": "markdown",
   "metadata": {},
   "source": [
    "![D2V2.png](Dashboards/D2V2.png)"
   ]
  },
  {
   "cell_type": "markdown",
   "metadata": {},
   "source": [
    "### Dashboard 2 Visualization 3"
   ]
  },
  {
   "cell_type": "markdown",
   "metadata": {},
   "source": [
    "![D2V3.png](Dashboards/D2V3.png)"
   ]
  },
  {
   "cell_type": "markdown",
   "metadata": {},
   "source": [
    "### Dashboard 2 Visualization 4"
   ]
  },
  {
   "cell_type": "markdown",
   "metadata": {},
   "source": [
    "![D2V4.png](Dashboards/D2V4.png)"
   ]
  },
  {
   "cell_type": "markdown",
   "metadata": {},
   "source": [
    "## Complete Dashboard 3"
   ]
  },
  {
   "cell_type": "markdown",
   "metadata": {},
   "source": [
    "<a href=\"Dashboards/PierreSeminega-Dashboard3.mstr\" download>Dashboard 3</a>"
   ]
  },
  {
   "cell_type": "markdown",
   "metadata": {},
   "source": [
    "![D3Complete.png](Dashboards/D3Complete.png)"
   ]
  },
  {
   "cell_type": "markdown",
   "metadata": {},
   "source": [
    "### Dashboard 3 Visualization 1"
   ]
  },
  {
   "cell_type": "markdown",
   "metadata": {},
   "source": [
    "![D3V1.png](Dashboards/D3V1.png)"
   ]
  },
  {
   "cell_type": "markdown",
   "metadata": {},
   "source": [
    "### Dashboard 3 Visualization 2"
   ]
  },
  {
   "cell_type": "markdown",
   "metadata": {},
   "source": [
    "![D3V2.png](Dashboards/D3V2.png)"
   ]
  },
  {
   "cell_type": "code",
   "execution_count": null,
   "metadata": {
    "collapsed": true
   },
   "outputs": [],
   "source": []
  }
 ],
 "metadata": {
  "kernelspec": {
   "display_name": "Python 3",
   "language": "python",
   "name": "python3"
  },
  "language_info": {
   "codemirror_mode": {
    "name": "ipython",
    "version": 3
   },
   "file_extension": ".py",
   "mimetype": "text/x-python",
   "name": "python",
   "nbconvert_exporter": "python",
   "pygments_lexer": "ipython3",
   "version": "3.6.2"
  }
 },
 "nbformat": 4,
 "nbformat_minor": 2
}
