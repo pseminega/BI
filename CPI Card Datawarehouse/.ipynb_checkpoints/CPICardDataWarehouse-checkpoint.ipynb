{
 "cells": [
  {
   "cell_type": "markdown",
   "metadata": {},
   "source": [
    "# The CPI Card Datawarehouse"
   ]
  },
  {
   "cell_type": "markdown",
   "metadata": {},
   "source": [
    "I have created a source system consisting of a primary data source, an ERP database and 2 secondary sources spreadsheets.\n",
    "\n",
    "\n",
    "**Tools used in this project:**\n",
    "\n",
    "*  SQL Developer\n",
    "*  DBDesigner.net (For entity relationship diagrams)\n",
    "*  Microstrategy 10\n",
    "*  Oracle Database 12.2\n",
    "*  Pentaho Data Integrator 8.1\n",
    "\n",
    "\n",
    "\n",
    "\n",
    "[**Source System:**](#sourcesystem)\n",
    "\n",
    "Primary source : The ERP Database\n",
    "1. [Entity relationship Diagram](#erdss)\n",
    "2. [Table Row Counts](#tcss)\n",
    "3. [Table Descriptions](#tdss)\n",
    "4. [Source System SQL Scripts](#ssss)\n",
    "\n",
    "Secondary sources: The lead file and financial summaries\n",
    "\n",
    "\n",
    "\n",
    "[**Star Schemas:**](#starschema)\n",
    "\n",
    "1. [Job Star Schema](#jss)\n",
    "2. [Shipment Star Schema](#sss)\n",
    "3. [Subjob Star Schema](#sjss)\n",
    "4. [Lead Star Schema](#lss)\n",
    "5. [Invoice Schema](#iss)\n",
    "6. [Financial Cost Summary Star Schema](#fcss)\n",
    "7. [Financial Sales Summary Star Schema](#fsss)\n",
    "\n",
    "[**Analysis**](#analysis)\n",
    "\n",
    "1. [SQL Base Queries](#bq)\n",
    "2. [Analytical Queries](#aq)\n",
    "3. [Materialized View Design](#mv)\n",
    "4. [Summary](#summary)\n",
    "\n",
    "\n"
   ]
  },
  {
   "cell_type": "markdown",
   "metadata": {},
   "source": [
    "<a id=\"sourcesystem\"></a>\n",
    "# The Source System"
   ]
  },
  {
   "cell_type": "markdown",
   "metadata": {},
   "source": [
    "<a id=\"erdss\"></a>\n",
    "### Entity Relationship Diagram"
   ]
  },
  {
   "cell_type": "markdown",
   "metadata": {},
   "source": [
    "![ERPDatabase.png](ERD/ERPDatabase.png)"
   ]
  },
  {
   "cell_type": "markdown",
   "metadata": {},
   "source": [
    "<a id=\"tcss\"></a>\n",
    "### Table Row Counts"
   ]
  },
  {
   "cell_type": "markdown",
   "metadata": {},
   "source": [
    "<table>\n",
    "<tr>\n",
    "   <th>Table Name</th>\n",
    "   <th>Number of Rows</th>\n",
    "</tr>\n",
    "<tr>\n",
    "   <td>Customer</td>\n",
    "   <td>3000</td>\n",
    "</tr>\n",
    "<tr>\n",
    "   <td>CustLocation</td>\n",
    "   <td>1000</td>\n",
    "</tr>\n",
    "<tr>\n",
    "   <td>Invoice</td>\n",
    "   <td>1000000</td>\n",
    "</tr>\n",
    "<tr>\n",
    "   <td>Job</td>\n",
    "   <td>100000</td>\n",
    "</tr>\n",
    "<tr>\n",
    "   <td>Location</td>\n",
    "   <td>10</td>\n",
    "</tr>\n",
    "<tr>\n",
    "   <td>MachineType</td>\n",
    "   <td>10</td>\n",
    "</tr>\n",
    "<tr>\n",
    "   <td>SalesAgent</td>\n",
    "   <td>50</td>\n",
    "</tr>\n",
    "<tr>\n",
    "   <td>SalesClass</td>\n",
    "   <td>6</td>\n",
    "</tr>\n",
    "<tr>\n",
    "   <td>Shipment</td>\n",
    "   <td>2500000</td>\n",
    "</tr>\n",
    "<tr>\n",
    "   <td>SubJob</td>\n",
    "   <td>500000</td>\n",
    "</tr>\n",
    "<tr>\n",
    "   <td>LeadFile</td>\n",
    "   <td>250000</td>\n",
    "</tr>\n",
    "<tr>\n",
    "   <td>Financial Sales Summary</td>\n",
    "   <td>1800</td>\n",
    "</tr>\n",
    "<tr>\n",
    "   <td>Financial Cost Summary</td>\n",
    "   <td>5400</td>\n",
    "</tr>\n",
    "</table>"
   ]
  },
  {
   "cell_type": "markdown",
   "metadata": {},
   "source": [
    "<a id=\"tdss\"></a>\n",
    "### Table Descriptions"
   ]
  },
  {
   "cell_type": "markdown",
   "metadata": {},
   "source": [
    "<a id=\"ssss\"></a>\n",
    "### Source System SQL Scripts"
   ]
  },
  {
   "cell_type": "markdown",
   "metadata": {},
   "source": [
    "To recreate the ERP at once run the <a href=>SourceSystemCreateStatements.sql</a> file to create the tables and \n",
    "<a href=>SourceSystemInsertStatements.sql</a> to insert the data. These files were created and tested on Oracle Database 12.2.2\n",
    "\n",
    "For individual table creations and population run the files in order:\n",
    "\n",
    "*  <a href=>Customer.sql</a>\n",
    "*  <a href=>Location.sql</a>\n",
    "*  <a href=>CustLocation.sql</a>\n",
    "*  <a href=>SalesAgent.sql</a>\n",
    "*  <a href=>SalesClass.sql</a>\n",
    "*  <a href=>MachineType.sql</a>\n",
    "*  <a href=>Job.sql</a>\n",
    "*  <a href=>Invoice.sql</a>\n",
    "*  <a href=>Subjob.sql</a>\n",
    "*  <a href=>Shipment.sql</a>\n",
    "\n",
    "The lead file and Financial Summary csv files can be found here \n",
    "\n",
    "*  <a href=>Lead File spreadsheet</a>\n",
    "*  <a href=>Financial Summaries spreadsheet</a>\n",
    "\n"
   ]
  },
  {
   "cell_type": "markdown",
   "metadata": {},
   "source": [
    "<a id=\"starschema\"></a>\n",
    "# Star Schemas"
   ]
  },
  {
   "cell_type": "markdown",
   "metadata": {},
   "source": [
    "<a id=\"jss\"></a>\n",
    "## Job Star Schema\n",
    "**Business Process Description:**\n",
    "\n",
    "\n",
    "**Technical Description:**"
   ]
  },
  {
   "cell_type": "markdown",
   "metadata": {},
   "source": [
    "#### Entity Relationship Diagram"
   ]
  },
  {
   "cell_type": "markdown",
   "metadata": {},
   "source": [
    "![JobFactSchema.png](ERD\\JobFactSchema.png)"
   ]
  },
  {
   "cell_type": "markdown",
   "metadata": {},
   "source": [
    "#### Table Descriptions"
   ]
  },
  {
   "cell_type": "markdown",
   "metadata": {},
   "source": [
    "<table>\n",
    "<tr>\n",
    "    <th>Cube</th>\n",
    "    <th>Dimensions</th>\n",
    "    <th>Measures</th>\n",
    "</tr>\n",
    "<tr>\n",
    "    <td></td>\n",
    "    <td></td>\n",
    "</tr>\n",
    "</table>\n",
    "\n",
    "\n",
    "<table>\n",
    "<tr>\n",
    "    <th>Cube</th>\n",
    "    <th>Grain</th>\n",
    "    <th>Unadjusted Size</th>\n",
    "    <th>Sparsity</th>\n",
    "</tr>\n",
    "<tr>\n",
    "    <td></td>\n",
    "    <td></td>\n",
    "</tr>\n",
    "</table>\n",
    "\n",
    "\n",
    "<table>\n",
    "<tr>\n",
    "    <th>Schema Type</th>\n",
    "    <th>Dimension tables</th>\n",
    "    <th>Fact table</th>\n",
    "    <th>Comments</th>\n",
    "</tr>\n",
    "<tr>\n",
    "    <td></td>\n",
    "    <td></td>\n",
    "</tr>\n",
    "</table>"
   ]
  },
  {
   "cell_type": "markdown",
   "metadata": {},
   "source": [
    "#### Scripts To Create Tables"
   ]
  },
  {
   "cell_type": "markdown",
   "metadata": {},
   "source": [
    "#### ETL"
   ]
  },
  {
   "cell_type": "markdown",
   "metadata": {},
   "source": [
    "#### Verify Against Source System"
   ]
  },
  {
   "cell_type": "markdown",
   "metadata": {},
   "source": [
    "<a id=\"sss\"></a>\n",
    "## Shipment Star Schema\n",
    "**Business Process Description:**\n",
    "\n",
    "\n",
    "**Technical Description:**"
   ]
  },
  {
   "cell_type": "markdown",
   "metadata": {},
   "source": [
    "#### Entity Relationship Diagram\n",
    "\n",
    "\n",
    "\n"
   ]
  },
  {
   "cell_type": "markdown",
   "metadata": {},
   "source": [
    "![ShipmentFactSchema.png](ERD\\ShipmentFactSchema.png)"
   ]
  },
  {
   "cell_type": "markdown",
   "metadata": {},
   "source": [
    "#### Table Descriptions"
   ]
  },
  {
   "cell_type": "markdown",
   "metadata": {},
   "source": [
    "<table>\n",
    "<tr>\n",
    "    <th>Cube</th>\n",
    "    <th>Dimensions</th>\n",
    "    <th>Measures</th>\n",
    "</tr>\n",
    "<tr>\n",
    "    <td></td>\n",
    "    <td></td>\n",
    "</tr>\n",
    "</table>\n",
    "\n",
    "\n",
    "<table>\n",
    "<tr>\n",
    "    <th>Cube</th>\n",
    "    <th>Grain</th>\n",
    "    <th>Unadjusted Size</th>\n",
    "    <th>Sparsity</th>\n",
    "</tr>\n",
    "<tr>\n",
    "    <td></td>\n",
    "    <td></td>\n",
    "</tr>\n",
    "</table>\n",
    "\n",
    "\n",
    "<table>\n",
    "<tr>\n",
    "    <th>Schema Type</th>\n",
    "    <th>Dimension tables</th>\n",
    "    <th>Fact table</th>\n",
    "    <th>Comments</th>\n",
    "</tr>\n",
    "<tr>\n",
    "    <td></td>\n",
    "    <td></td>\n",
    "</tr>\n",
    "</table>"
   ]
  },
  {
   "cell_type": "markdown",
   "metadata": {},
   "source": [
    "#### Scripts To Create Tables"
   ]
  },
  {
   "cell_type": "markdown",
   "metadata": {},
   "source": [
    "#### ETL"
   ]
  },
  {
   "cell_type": "markdown",
   "metadata": {},
   "source": [
    "#### Verify Against Source System"
   ]
  },
  {
   "cell_type": "markdown",
   "metadata": {},
   "source": [
    "<a id=\"sjss\"></a>\n",
    "## Subjob Star Schema\n",
    "**Business Process Description:**\n",
    "\n",
    "\n",
    "**Technical Description:**"
   ]
  },
  {
   "cell_type": "markdown",
   "metadata": {},
   "source": [
    "#### Entity Relationship Diagram"
   ]
  },
  {
   "cell_type": "markdown",
   "metadata": {},
   "source": [
    "![SubJobFactSchema.png](ERD\\SubJobFactSchema.png)"
   ]
  },
  {
   "cell_type": "markdown",
   "metadata": {},
   "source": [
    "#### Table Descriptions"
   ]
  },
  {
   "cell_type": "markdown",
   "metadata": {},
   "source": [
    "<table>\n",
    "<tr>\n",
    "    <th>Cube</th>\n",
    "    <th>Dimensions</th>\n",
    "    <th>Measures</th>\n",
    "</tr>\n",
    "<tr>\n",
    "    <td></td>\n",
    "    <td></td>\n",
    "</tr>\n",
    "</table>\n",
    "\n",
    "\n",
    "<table>\n",
    "<tr>\n",
    "    <th>Cube</th>\n",
    "    <th>Grain</th>\n",
    "    <th>Unadjusted Size</th>\n",
    "    <th>Sparsity</th>\n",
    "</tr>\n",
    "<tr>\n",
    "    <td></td>\n",
    "    <td></td>\n",
    "</tr>\n",
    "</table>\n",
    "\n",
    "\n",
    "<table>\n",
    "<tr>\n",
    "    <th>Schema Type</th>\n",
    "    <th>Dimension tables</th>\n",
    "    <th>Fact table</th>\n",
    "    <th>Comments</th>\n",
    "</tr>\n",
    "<tr>\n",
    "    <td></td>\n",
    "    <td></td>\n",
    "</tr>\n",
    "</table>"
   ]
  },
  {
   "cell_type": "markdown",
   "metadata": {},
   "source": [
    "#### Scripts To Create Tables"
   ]
  },
  {
   "cell_type": "markdown",
   "metadata": {},
   "source": [
    "#### ETL"
   ]
  },
  {
   "cell_type": "markdown",
   "metadata": {},
   "source": [
    "#### Verify Against Source System"
   ]
  },
  {
   "cell_type": "markdown",
   "metadata": {},
   "source": [
    "<a id=\"lss\"></a>\n",
    "## Lead Star Schema\n",
    "**Business Process Description:**\n",
    "\n",
    "\n",
    "**Technical Description:**"
   ]
  },
  {
   "cell_type": "markdown",
   "metadata": {},
   "source": [
    "#### Entity Relationship Diagram"
   ]
  },
  {
   "cell_type": "markdown",
   "metadata": {},
   "source": [
    "![LeadFactSchema.png](ERD\\LeadFactSchema.png)"
   ]
  },
  {
   "cell_type": "markdown",
   "metadata": {},
   "source": [
    "#### Table Descriptions"
   ]
  },
  {
   "cell_type": "markdown",
   "metadata": {},
   "source": [
    "<table>\n",
    "<tr>\n",
    "    <th>Cube</th>\n",
    "    <th>Dimensions</th>\n",
    "    <th>Measures</th>\n",
    "</tr>\n",
    "<tr>\n",
    "    <td></td>\n",
    "    <td></td>\n",
    "</tr>\n",
    "</table>\n",
    "\n",
    "\n",
    "<table>\n",
    "<tr>\n",
    "    <th>Cube</th>\n",
    "    <th>Grain</th>\n",
    "    <th>Unadjusted Size</th>\n",
    "    <th>Sparsity</th>\n",
    "</tr>\n",
    "<tr>\n",
    "    <td></td>\n",
    "    <td></td>\n",
    "</tr>\n",
    "</table>\n",
    "\n",
    "\n",
    "<table>\n",
    "<tr>\n",
    "    <th>Schema Type</th>\n",
    "    <th>Dimension tables</th>\n",
    "    <th>Fact table</th>\n",
    "    <th>Comments</th>\n",
    "</tr>\n",
    "<tr>\n",
    "    <td></td>\n",
    "    <td></td>\n",
    "</tr>\n",
    "</table>"
   ]
  },
  {
   "cell_type": "markdown",
   "metadata": {},
   "source": [
    "#### Scripts To Create Tables"
   ]
  },
  {
   "cell_type": "markdown",
   "metadata": {},
   "source": [
    "#### ETL"
   ]
  },
  {
   "cell_type": "markdown",
   "metadata": {},
   "source": [
    "#### Verify Against Source System"
   ]
  },
  {
   "cell_type": "markdown",
   "metadata": {},
   "source": [
    "<a id=\"iss\"></a>\n",
    "## Invoice Star Schema\n",
    "**Business Process Description:**\n",
    "\n",
    "\n",
    "**Technical Description:**"
   ]
  },
  {
   "cell_type": "markdown",
   "metadata": {},
   "source": [
    "#### Entity Relationship Diagram"
   ]
  },
  {
   "cell_type": "markdown",
   "metadata": {},
   "source": [
    "![InvoiceFactSchema.png](ERD\\InvoiceFactSchema.png)"
   ]
  },
  {
   "cell_type": "markdown",
   "metadata": {},
   "source": [
    "#### Table Descriptions"
   ]
  },
  {
   "cell_type": "markdown",
   "metadata": {},
   "source": [
    "<table>\n",
    "<tr>\n",
    "    <th>Cube</th>\n",
    "    <th>Dimensions</th>\n",
    "    <th>Measures</th>\n",
    "</tr>\n",
    "<tr>\n",
    "    <td></td>\n",
    "    <td></td>\n",
    "</tr>\n",
    "</table>\n",
    "\n",
    "\n",
    "<table>\n",
    "<tr>\n",
    "    <th>Cube</th>\n",
    "    <th>Grain</th>\n",
    "    <th>Unadjusted Size</th>\n",
    "    <th>Sparsity</th>\n",
    "</tr>\n",
    "<tr>\n",
    "    <td></td>\n",
    "    <td></td>\n",
    "</tr>\n",
    "</table>\n",
    "\n",
    "\n",
    "<table>\n",
    "<tr>\n",
    "    <th>Schema Type</th>\n",
    "    <th>Dimension tables</th>\n",
    "    <th>Fact table</th>\n",
    "    <th>Comments</th>\n",
    "</tr>\n",
    "<tr>\n",
    "    <td></td>\n",
    "    <td></td>\n",
    "</tr>\n",
    "</table>"
   ]
  },
  {
   "cell_type": "markdown",
   "metadata": {},
   "source": [
    "#### Scripts To Create Tables"
   ]
  },
  {
   "cell_type": "markdown",
   "metadata": {},
   "source": [
    "#### ETL"
   ]
  },
  {
   "cell_type": "markdown",
   "metadata": {},
   "source": [
    "#### Verify Against Source System"
   ]
  },
  {
   "cell_type": "markdown",
   "metadata": {},
   "source": [
    "<a id=\"fcss\"></a>\n",
    "## Financial Cost Summary Schema\n",
    "**Business Process Description:**\n",
    "\n",
    "\n",
    "**Technical Description:**"
   ]
  },
  {
   "cell_type": "markdown",
   "metadata": {},
   "source": [
    "#### Entity Relationship Diagram"
   ]
  },
  {
   "cell_type": "markdown",
   "metadata": {},
   "source": [
    "![FinancialCostSummarySchema.png](ERD\\FinancialCostSummarySchema.png)"
   ]
  },
  {
   "cell_type": "markdown",
   "metadata": {},
   "source": [
    "#### Table Descriptions"
   ]
  },
  {
   "cell_type": "markdown",
   "metadata": {},
   "source": [
    "<table>\n",
    "<tr>\n",
    "    <th>Cube</th>\n",
    "    <th>Dimensions</th>\n",
    "    <th>Measures</th>\n",
    "</tr>\n",
    "<tr>\n",
    "    <td></td>\n",
    "    <td></td>\n",
    "</tr>\n",
    "</table>\n",
    "\n",
    "\n",
    "<table>\n",
    "<tr>\n",
    "    <th>Cube</th>\n",
    "    <th>Grain</th>\n",
    "    <th>Unadjusted Size</th>\n",
    "    <th>Sparsity</th>\n",
    "</tr>\n",
    "<tr>\n",
    "    <td></td>\n",
    "    <td></td>\n",
    "</tr>\n",
    "</table>\n",
    "\n",
    "\n",
    "<table>\n",
    "<tr>\n",
    "    <th>Schema Type</th>\n",
    "    <th>Dimension tables</th>\n",
    "    <th>Fact table</th>\n",
    "    <th>Comments</th>\n",
    "</tr>\n",
    "<tr>\n",
    "    <td></td>\n",
    "    <td></td>\n",
    "</tr>\n",
    "</table>"
   ]
  },
  {
   "cell_type": "markdown",
   "metadata": {},
   "source": [
    "#### Scripts To Create Tables"
   ]
  },
  {
   "cell_type": "markdown",
   "metadata": {},
   "source": [
    "#### ETL"
   ]
  },
  {
   "cell_type": "markdown",
   "metadata": {},
   "source": [
    "#### Verify Against Source System"
   ]
  },
  {
   "cell_type": "markdown",
   "metadata": {},
   "source": [
    "<a id=\"fsss\"></a>\n",
    "## Financial Sales Summary Schema\n",
    "**Business Process Description:**\n",
    "\n",
    "\n",
    "**Technical Description:**"
   ]
  },
  {
   "cell_type": "markdown",
   "metadata": {},
   "source": [
    "#### Entity Relationship Diagram"
   ]
  },
  {
   "cell_type": "markdown",
   "metadata": {},
   "source": [
    "![FinancialSalesSummarySchema.png](ERD\\FinancialSalesSummarySchema.png)"
   ]
  },
  {
   "cell_type": "markdown",
   "metadata": {},
   "source": [
    "#### Table Descriptions"
   ]
  },
  {
   "cell_type": "markdown",
   "metadata": {},
   "source": [
    "<table>\n",
    "<tr>\n",
    "    <th>Cube</th>\n",
    "    <th>Dimensions</th>\n",
    "    <th>Measures</th>\n",
    "</tr>\n",
    "<tr>\n",
    "    <td></td>\n",
    "    <td></td>\n",
    "</tr>\n",
    "</table>\n",
    "\n",
    "\n",
    "<table>\n",
    "<tr>\n",
    "    <th>Cube</th>\n",
    "    <th>Grain</th>\n",
    "    <th>Unadjusted Size</th>\n",
    "    <th>Sparsity</th>\n",
    "</tr>\n",
    "<tr>\n",
    "    <td></td>\n",
    "    <td></td>\n",
    "</tr>\n",
    "</table>\n",
    "\n",
    "\n",
    "<table>\n",
    "<tr>\n",
    "    <th>Schema Type</th>\n",
    "    <th>Dimension tables</th>\n",
    "    <th>Fact table</th>\n",
    "    <th>Comments</th>\n",
    "</tr>\n",
    "<tr>\n",
    "    <td></td>\n",
    "    <td></td>\n",
    "</tr>\n",
    "</table>"
   ]
  },
  {
   "cell_type": "markdown",
   "metadata": {},
   "source": [
    "#### Scripts To Create Tables"
   ]
  },
  {
   "cell_type": "markdown",
   "metadata": {},
   "source": [
    "#### ETL"
   ]
  },
  {
   "cell_type": "markdown",
   "metadata": {},
   "source": [
    "#### Verify Against Source System"
   ]
  },
  {
   "cell_type": "markdown",
   "metadata": {},
   "source": [
    "<a id=\"analysis\"></a>\n",
    "# Analysis"
   ]
  },
  {
   "cell_type": "markdown",
   "metadata": {},
   "source": [
    "<a id=\"bq\"></a>\n",
    "#### SQL Base Queries"
   ]
  },
  {
   "cell_type": "markdown",
   "metadata": {},
   "source": [
    "-  <a href=>Query1</a>\n",
    "-  <a href=>Query2</a>\n",
    "-  <a href=>Query3</a>\n",
    "-  <a href=>Query4</a>\n",
    "-  <a href=>Query5</a>\n",
    "-  <a href=>Query6</a>"
   ]
  },
  {
   "cell_type": "markdown",
   "metadata": {},
   "source": [
    "<a id=\"aq\"></a>\n",
    "#### Analytical Queries"
   ]
  },
  {
   "cell_type": "markdown",
   "metadata": {},
   "source": [
    "-  <a href=>Query1</a>\n",
    "-  <a href=>Query2</a>\n",
    "-  <a href=>Query3</a>\n",
    "-  <a href=>Query4</a>\n",
    "-  <a href=>Query5</a>\n",
    "-  <a href=>Query6</a>\n",
    "-  <a href=>Query7</a>\n",
    "-  <a href=>Query8</a>\n",
    "-  <a href=>Query9</a>\n",
    "-  <a href=>Query10</a>"
   ]
  },
  {
   "cell_type": "markdown",
   "metadata": {},
   "source": [
    "<a id=\"mv\"></a>\n",
    "#### Material View Design"
   ]
  },
  {
   "cell_type": "markdown",
   "metadata": {},
   "source": [
    "<a id=\"summary\"></a>\n",
    "# Summary"
   ]
  },
  {
   "cell_type": "markdown",
   "metadata": {},
   "source": [
    "## Complete Dashboard 1"
   ]
  },
  {
   "cell_type": "markdown",
   "metadata": {},
   "source": [
    "![D1Complete.png](Dashboards\\D1Complete.png)"
   ]
  },
  {
   "cell_type": "markdown",
   "metadata": {},
   "source": [
    "### Dashboard 1 Visualization 1"
   ]
  },
  {
   "cell_type": "markdown",
   "metadata": {},
   "source": [
    "![D1V1.png](Dashboards\\D1V1.png)"
   ]
  },
  {
   "cell_type": "markdown",
   "metadata": {},
   "source": [
    "### Dashboard 1 Visualization 2"
   ]
  },
  {
   "cell_type": "markdown",
   "metadata": {},
   "source": [
    "![D1V2.png](Dashboards\\D1V2.png)"
   ]
  },
  {
   "cell_type": "markdown",
   "metadata": {},
   "source": [
    "### Dashboard 1 Visualization 3"
   ]
  },
  {
   "cell_type": "markdown",
   "metadata": {},
   "source": [
    "![D1V3.png](Dashboards\\D1V3.png)"
   ]
  },
  {
   "cell_type": "markdown",
   "metadata": {},
   "source": [
    "### Dashboard 1 Visualization 4"
   ]
  },
  {
   "cell_type": "markdown",
   "metadata": {},
   "source": [
    "![D1V4.png](Dashboards\\D1V4.png)"
   ]
  },
  {
   "cell_type": "markdown",
   "metadata": {},
   "source": [
    "## Complete Dashboard 2"
   ]
  },
  {
   "cell_type": "markdown",
   "metadata": {},
   "source": [
    "![D2Complete.png](Dashboards\\D2Complete.png)"
   ]
  },
  {
   "cell_type": "markdown",
   "metadata": {},
   "source": [
    "### Dashboard 2 Visualization 1"
   ]
  },
  {
   "cell_type": "markdown",
   "metadata": {},
   "source": [
    "![D2V1.png](Dashboards\\D2V1.png)"
   ]
  },
  {
   "cell_type": "markdown",
   "metadata": {},
   "source": [
    "### Dashboard 2 Visualization 2"
   ]
  },
  {
   "cell_type": "markdown",
   "metadata": {},
   "source": [
    "![D2V2.png](Dashboards\\D2V2.png)"
   ]
  },
  {
   "cell_type": "markdown",
   "metadata": {},
   "source": [
    "### Dashboard 2 Visualization 3"
   ]
  },
  {
   "cell_type": "markdown",
   "metadata": {},
   "source": [
    "![D2V3.png](Dashboards\\D2V3.png)"
   ]
  },
  {
   "cell_type": "markdown",
   "metadata": {},
   "source": [
    "### Dashboard 2 Visualization 4"
   ]
  },
  {
   "cell_type": "markdown",
   "metadata": {},
   "source": [
    "![D2V4.png](Dashboards\\D2V4.png)"
   ]
  },
  {
   "cell_type": "markdown",
   "metadata": {},
   "source": [
    "## Complete Dashboard 3"
   ]
  },
  {
   "cell_type": "markdown",
   "metadata": {},
   "source": [
    "![D3Complete.png](Dashboards\\D3Complete.png)"
   ]
  },
  {
   "cell_type": "markdown",
   "metadata": {},
   "source": [
    "### Dashboard 3 Visualization 1"
   ]
  },
  {
   "cell_type": "markdown",
   "metadata": {},
   "source": [
    "![D3V1.png](Dashboards\\D3V1.png)"
   ]
  },
  {
   "cell_type": "markdown",
   "metadata": {},
   "source": [
    "### Dashboard 3 Visualization 2"
   ]
  },
  {
   "cell_type": "markdown",
   "metadata": {},
   "source": [
    "![D3V2.png](Dashboards\\D3V2.png)"
   ]
  },
  {
   "cell_type": "code",
   "execution_count": null,
   "metadata": {
    "collapsed": true
   },
   "outputs": [],
   "source": []
  }
 ],
 "metadata": {
  "kernelspec": {
   "display_name": "Python 3",
   "language": "python",
   "name": "python3"
  },
  "language_info": {
   "codemirror_mode": {
    "name": "ipython",
    "version": 3
   },
   "file_extension": ".py",
   "mimetype": "text/x-python",
   "name": "python",
   "nbconvert_exporter": "python",
   "pygments_lexer": "ipython3",
   "version": "3.6.2"
  }
 },
 "nbformat": 4,
 "nbformat_minor": 2
}
